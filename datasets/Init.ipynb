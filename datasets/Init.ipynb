{
 "cells": [
  {
   "cell_type": "markdown",
   "metadata": {},
   "source": [
    "# Bot de Asistencia Interactivo en Programas de Algoritmos y Diagramas de Programación para la Asignatura de “Introducción a la Algoritmia”\n",
    "\n"
   ]
  },
  {
   "cell_type": "markdown",
   "metadata": {},
   "source": [
    "## Introducción"
   ]
  },
  {
   "cell_type": "markdown",
   "metadata": {},
   "source": [
    "## Inicializar Dependencias"
   ]
  },
  {
   "cell_type": "code",
   "execution_count": 2,
   "metadata": {},
   "outputs": [
    {
     "name": "stdout",
     "output_type": "stream",
     "text": [
      "Requirement already satisfied: pip in /system/conda/miniconda3/lib/python3.10/site-packages (25.0.1)\n",
      "Requirement already satisfied: torch in /system/conda/miniconda3/lib/python3.10/site-packages (from -r ../requirements.txt (line 1)) (2.6.0)\n",
      "Requirement already satisfied: torchvision in /system/conda/miniconda3/lib/python3.10/site-packages (from -r ../requirements.txt (line 2)) (0.21.0)\n",
      "Requirement already satisfied: albumentations in /system/conda/miniconda3/lib/python3.10/site-packages (from -r ../requirements.txt (line 3)) (2.0.5)\n",
      "Requirement already satisfied: scenedetect<0.7 in /system/conda/miniconda3/lib/python3.10/site-packages (from -r ../requirements.txt (line 4)) (0.6.6)\n",
      "Requirement already satisfied: easyocr in /system/conda/miniconda3/lib/python3.10/site-packages (from -r ../requirements.txt (line 5)) (1.7.2)\n",
      "Requirement already satisfied: opencv-python in /system/conda/miniconda3/lib/python3.10/site-packages (from -r ../requirements.txt (line 6)) (4.11.0.86)\n",
      "Requirement already satisfied: opencv-python-headless in /system/conda/miniconda3/lib/python3.10/site-packages (from -r ../requirements.txt (line 7)) (4.10.0.84)\n",
      "Requirement already satisfied: ffmpeg in /system/conda/miniconda3/lib/python3.10/site-packages (from -r ../requirements.txt (line 8)) (1.4)\n",
      "Requirement already satisfied: transformers in /system/conda/miniconda3/lib/python3.10/site-packages (from -r ../requirements.txt (line 9)) (4.49.0)\n",
      "Requirement already satisfied: lmdb in /system/conda/miniconda3/lib/python3.10/site-packages (from -r ../requirements.txt (line 10)) (1.6.2)\n",
      "Requirement already satisfied: pillow in /system/conda/miniconda3/lib/python3.10/site-packages (from -r ../requirements.txt (line 11)) (11.1.0)\n",
      "Requirement already satisfied: matplotlib in /system/conda/miniconda3/lib/python3.10/site-packages (from -r ../requirements.txt (line 12)) (3.10.1)\n",
      "Requirement already satisfied: seaborn in /system/conda/miniconda3/lib/python3.10/site-packages (from -r ../requirements.txt (line 13)) (0.13.2)\n",
      "Requirement already satisfied: scikit-learn in /system/conda/miniconda3/lib/python3.10/site-packages (from -r ../requirements.txt (line 14)) (1.6.1)\n",
      "Requirement already satisfied: roboflow in /system/conda/miniconda3/lib/python3.10/site-packages (from -r ../requirements.txt (line 15)) (1.1.58)\n",
      "Requirement already satisfied: ultralytics in /system/conda/miniconda3/lib/python3.10/site-packages (from -r ../requirements.txt (line 16)) (8.3.63)\n",
      "Requirement already satisfied: supervision in /system/conda/miniconda3/lib/python3.10/site-packages (from -r ../requirements.txt (line 17)) (0.25.1)\n",
      "Requirement already satisfied: rapidfuzz in /system/conda/miniconda3/lib/python3.10/site-packages (from -r ../requirements.txt (line 18)) (3.12.2)\n",
      "Requirement already satisfied: paddleocr in /system/conda/miniconda3/lib/python3.10/site-packages (from -r ../requirements.txt (line 19)) (2.10.0)\n",
      "Requirement already satisfied: imutils==0.5.4 in /system/conda/miniconda3/lib/python3.10/site-packages (from -r ../requirements.txt (line 20)) (0.5.4)\n",
      "Requirement already satisfied: torchaudio in /system/conda/miniconda3/lib/python3.10/site-packages (from -r ../requirements.txt (line 21)) (2.6.0)\n",
      "Requirement already satisfied: paddlepaddle-gpu in /system/conda/miniconda3/lib/python3.10/site-packages (from -r ../requirements.txt (line 22)) (2.6.2)\n",
      "Requirement already satisfied: filelock in /system/conda/miniconda3/lib/python3.10/site-packages (from torch->-r ../requirements.txt (line 1)) (3.18.0)\n",
      "Requirement already satisfied: typing-extensions>=4.10.0 in /system/conda/miniconda3/lib/python3.10/site-packages (from torch->-r ../requirements.txt (line 1)) (4.12.2)\n",
      "Requirement already satisfied: networkx in /system/conda/miniconda3/lib/python3.10/site-packages (from torch->-r ../requirements.txt (line 1)) (3.4.2)\n",
      "Requirement already satisfied: jinja2 in /system/conda/miniconda3/lib/python3.10/site-packages (from torch->-r ../requirements.txt (line 1)) (3.1.6)\n",
      "Requirement already satisfied: fsspec in /system/conda/miniconda3/lib/python3.10/site-packages (from torch->-r ../requirements.txt (line 1)) (2025.3.0)\n",
      "Requirement already satisfied: nvidia-cuda-nvrtc-cu12==12.4.127 in /system/conda/miniconda3/lib/python3.10/site-packages (from torch->-r ../requirements.txt (line 1)) (12.4.127)\n",
      "Requirement already satisfied: nvidia-cuda-runtime-cu12==12.4.127 in /system/conda/miniconda3/lib/python3.10/site-packages (from torch->-r ../requirements.txt (line 1)) (12.4.127)\n",
      "Requirement already satisfied: nvidia-cuda-cupti-cu12==12.4.127 in /system/conda/miniconda3/lib/python3.10/site-packages (from torch->-r ../requirements.txt (line 1)) (12.4.127)\n",
      "Requirement already satisfied: nvidia-cudnn-cu12==9.1.0.70 in /system/conda/miniconda3/lib/python3.10/site-packages (from torch->-r ../requirements.txt (line 1)) (9.1.0.70)\n",
      "Requirement already satisfied: nvidia-cublas-cu12==12.4.5.8 in /system/conda/miniconda3/lib/python3.10/site-packages (from torch->-r ../requirements.txt (line 1)) (12.4.5.8)\n",
      "Requirement already satisfied: nvidia-cufft-cu12==11.2.1.3 in /system/conda/miniconda3/lib/python3.10/site-packages (from torch->-r ../requirements.txt (line 1)) (11.2.1.3)\n",
      "Requirement already satisfied: nvidia-curand-cu12==10.3.5.147 in /system/conda/miniconda3/lib/python3.10/site-packages (from torch->-r ../requirements.txt (line 1)) (10.3.5.147)\n",
      "Requirement already satisfied: nvidia-cusolver-cu12==11.6.1.9 in /system/conda/miniconda3/lib/python3.10/site-packages (from torch->-r ../requirements.txt (line 1)) (11.6.1.9)\n",
      "Requirement already satisfied: nvidia-cusparse-cu12==12.3.1.170 in /system/conda/miniconda3/lib/python3.10/site-packages (from torch->-r ../requirements.txt (line 1)) (12.3.1.170)\n",
      "Requirement already satisfied: nvidia-cusparselt-cu12==0.6.2 in /system/conda/miniconda3/lib/python3.10/site-packages (from torch->-r ../requirements.txt (line 1)) (0.6.2)\n",
      "Requirement already satisfied: nvidia-nccl-cu12==2.21.5 in /system/conda/miniconda3/lib/python3.10/site-packages (from torch->-r ../requirements.txt (line 1)) (2.21.5)\n",
      "Requirement already satisfied: nvidia-nvtx-cu12==12.4.127 in /system/conda/miniconda3/lib/python3.10/site-packages (from torch->-r ../requirements.txt (line 1)) (12.4.127)\n",
      "Requirement already satisfied: nvidia-nvjitlink-cu12==12.4.127 in /system/conda/miniconda3/lib/python3.10/site-packages (from torch->-r ../requirements.txt (line 1)) (12.4.127)\n",
      "Requirement already satisfied: triton==3.2.0 in /system/conda/miniconda3/lib/python3.10/site-packages (from torch->-r ../requirements.txt (line 1)) (3.2.0)\n",
      "Requirement already satisfied: sympy==1.13.1 in /system/conda/miniconda3/lib/python3.10/site-packages (from torch->-r ../requirements.txt (line 1)) (1.13.1)\n",
      "Requirement already satisfied: mpmath<1.4,>=1.1.0 in /system/conda/miniconda3/lib/python3.10/site-packages (from sympy==1.13.1->torch->-r ../requirements.txt (line 1)) (1.3.0)\n",
      "Requirement already satisfied: numpy in /system/conda/miniconda3/lib/python3.10/site-packages (from torchvision->-r ../requirements.txt (line 2)) (2.1.1)\n",
      "Requirement already satisfied: scipy>=1.10.0 in /system/conda/miniconda3/lib/python3.10/site-packages (from albumentations->-r ../requirements.txt (line 3)) (1.15.2)\n",
      "Requirement already satisfied: PyYAML in /system/conda/miniconda3/lib/python3.10/site-packages (from albumentations->-r ../requirements.txt (line 3)) (6.0.2)\n",
      "Requirement already satisfied: pydantic>=2.9.2 in /system/conda/miniconda3/lib/python3.10/site-packages (from albumentations->-r ../requirements.txt (line 3)) (2.10.6)\n",
      "Requirement already satisfied: albucore==0.0.23 in /system/conda/miniconda3/lib/python3.10/site-packages (from albumentations->-r ../requirements.txt (line 3)) (0.0.23)\n",
      "Requirement already satisfied: stringzilla>=3.10.4 in /system/conda/miniconda3/lib/python3.10/site-packages (from albucore==0.0.23->albumentations->-r ../requirements.txt (line 3)) (3.12.3)\n",
      "Requirement already satisfied: simsimd>=5.9.2 in /system/conda/miniconda3/lib/python3.10/site-packages (from albucore==0.0.23->albumentations->-r ../requirements.txt (line 3)) (6.2.1)\n",
      "Requirement already satisfied: Click in /system/conda/miniconda3/lib/python3.10/site-packages (from scenedetect<0.7->-r ../requirements.txt (line 4)) (8.1.8)\n",
      "Requirement already satisfied: platformdirs in /system/conda/miniconda3/lib/python3.10/site-packages (from scenedetect<0.7->-r ../requirements.txt (line 4)) (3.10.0)\n",
      "Requirement already satisfied: tqdm in /system/conda/miniconda3/lib/python3.10/site-packages (from scenedetect<0.7->-r ../requirements.txt (line 4)) (4.65.0)\n",
      "Requirement already satisfied: scikit-image in /system/conda/miniconda3/lib/python3.10/site-packages (from easyocr->-r ../requirements.txt (line 5)) (0.25.2)\n",
      "Requirement already satisfied: python-bidi in /system/conda/miniconda3/lib/python3.10/site-packages (from easyocr->-r ../requirements.txt (line 5)) (0.6.6)\n",
      "Requirement already satisfied: Shapely in /system/conda/miniconda3/lib/python3.10/site-packages (from easyocr->-r ../requirements.txt (line 5)) (2.0.7)\n",
      "Requirement already satisfied: pyclipper in /system/conda/miniconda3/lib/python3.10/site-packages (from easyocr->-r ../requirements.txt (line 5)) (1.3.0.post6)\n",
      "Requirement already satisfied: ninja in /system/conda/miniconda3/lib/python3.10/site-packages (from easyocr->-r ../requirements.txt (line 5)) (1.11.1.3)\n",
      "Requirement already satisfied: huggingface-hub<1.0,>=0.26.0 in /system/conda/miniconda3/lib/python3.10/site-packages (from transformers->-r ../requirements.txt (line 9)) (0.29.3)\n",
      "Requirement already satisfied: packaging>=20.0 in /system/conda/miniconda3/lib/python3.10/site-packages (from transformers->-r ../requirements.txt (line 9)) (23.1)\n",
      "Requirement already satisfied: regex!=2019.12.17 in /system/conda/miniconda3/lib/python3.10/site-packages (from transformers->-r ../requirements.txt (line 9)) (2024.11.6)\n",
      "Requirement already satisfied: requests in /system/conda/miniconda3/lib/python3.10/site-packages (from transformers->-r ../requirements.txt (line 9)) (2.31.0)\n",
      "Requirement already satisfied: tokenizers<0.22,>=0.21 in /system/conda/miniconda3/lib/python3.10/site-packages (from transformers->-r ../requirements.txt (line 9)) (0.21.1)\n",
      "Requirement already satisfied: safetensors>=0.4.1 in /system/conda/miniconda3/lib/python3.10/site-packages (from transformers->-r ../requirements.txt (line 9)) (0.5.3)\n",
      "Requirement already satisfied: contourpy>=1.0.1 in /system/conda/miniconda3/lib/python3.10/site-packages (from matplotlib->-r ../requirements.txt (line 12)) (1.3.1)\n",
      "Requirement already satisfied: cycler>=0.10 in /system/conda/miniconda3/lib/python3.10/site-packages (from matplotlib->-r ../requirements.txt (line 12)) (0.12.1)\n",
      "Requirement already satisfied: fonttools>=4.22.0 in /system/conda/miniconda3/lib/python3.10/site-packages (from matplotlib->-r ../requirements.txt (line 12)) (4.56.0)\n",
      "Requirement already satisfied: kiwisolver>=1.3.1 in /system/conda/miniconda3/lib/python3.10/site-packages (from matplotlib->-r ../requirements.txt (line 12)) (1.4.8)\n",
      "Requirement already satisfied: pyparsing>=2.3.1 in /system/conda/miniconda3/lib/python3.10/site-packages (from matplotlib->-r ../requirements.txt (line 12)) (3.2.1)\n",
      "Requirement already satisfied: python-dateutil>=2.7 in /system/conda/miniconda3/lib/python3.10/site-packages (from matplotlib->-r ../requirements.txt (line 12)) (2.9.0.post0)\n",
      "Requirement already satisfied: pandas>=1.2 in /system/conda/miniconda3/lib/python3.10/site-packages (from seaborn->-r ../requirements.txt (line 13)) (2.2.3)\n",
      "Requirement already satisfied: joblib>=1.2.0 in /system/conda/miniconda3/lib/python3.10/site-packages (from scikit-learn->-r ../requirements.txt (line 14)) (1.4.2)\n",
      "Requirement already satisfied: threadpoolctl>=3.1.0 in /system/conda/miniconda3/lib/python3.10/site-packages (from scikit-learn->-r ../requirements.txt (line 14)) (3.6.0)\n",
      "Requirement already satisfied: certifi in /system/conda/miniconda3/lib/python3.10/site-packages (from roboflow->-r ../requirements.txt (line 15)) (2025.1.31)\n",
      "Requirement already satisfied: idna==3.7 in /system/conda/miniconda3/lib/python3.10/site-packages (from roboflow->-r ../requirements.txt (line 15)) (3.7)\n",
      "Requirement already satisfied: pillow-heif>=0.18.0 in /system/conda/miniconda3/lib/python3.10/site-packages (from roboflow->-r ../requirements.txt (line 15)) (0.22.0)\n",
      "Requirement already satisfied: python-dotenv in /system/conda/miniconda3/lib/python3.10/site-packages (from roboflow->-r ../requirements.txt (line 15)) (1.0.1)\n",
      "Requirement already satisfied: six in /system/conda/miniconda3/lib/python3.10/site-packages (from roboflow->-r ../requirements.txt (line 15)) (1.17.0)\n",
      "Requirement already satisfied: urllib3>=1.26.6 in /system/conda/miniconda3/lib/python3.10/site-packages (from roboflow->-r ../requirements.txt (line 15)) (2.1.0)\n",
      "Requirement already satisfied: requests-toolbelt in /system/conda/miniconda3/lib/python3.10/site-packages (from roboflow->-r ../requirements.txt (line 15)) (1.0.0)\n",
      "Requirement already satisfied: filetype in /system/conda/miniconda3/lib/python3.10/site-packages (from roboflow->-r ../requirements.txt (line 15)) (1.2.0)\n",
      "Requirement already satisfied: psutil in /system/conda/miniconda3/lib/python3.10/site-packages (from ultralytics->-r ../requirements.txt (line 16)) (5.9.1)\n",
      "Requirement already satisfied: py-cpuinfo in /system/conda/miniconda3/lib/python3.10/site-packages (from ultralytics->-r ../requirements.txt (line 16)) (9.0.0)\n",
      "Requirement already satisfied: ultralytics-thop>=2.0.0 in /system/conda/miniconda3/lib/python3.10/site-packages (from ultralytics->-r ../requirements.txt (line 16)) (2.0.14)\n",
      "Requirement already satisfied: defusedxml<0.8.0,>=0.7.1 in /system/conda/miniconda3/lib/python3.10/site-packages (from supervision->-r ../requirements.txt (line 17)) (0.7.1)\n",
      "Requirement already satisfied: opencv-contrib-python in /system/conda/miniconda3/lib/python3.10/site-packages (from paddleocr->-r ../requirements.txt (line 19)) (4.11.0.86)\n",
      "Requirement already satisfied: cython in /system/conda/miniconda3/lib/python3.10/site-packages (from paddleocr->-r ../requirements.txt (line 19)) (3.0.12)\n",
      "Requirement already satisfied: python-docx in /system/conda/miniconda3/lib/python3.10/site-packages (from paddleocr->-r ../requirements.txt (line 19)) (1.1.2)\n",
      "Requirement already satisfied: beautifulsoup4 in /system/conda/miniconda3/lib/python3.10/site-packages (from paddleocr->-r ../requirements.txt (line 19)) (4.13.3)\n",
      "Requirement already satisfied: fire>=0.3.0 in /system/conda/miniconda3/lib/python3.10/site-packages (from paddleocr->-r ../requirements.txt (line 19)) (0.7.0)\n",
      "Requirement already satisfied: httpx in /system/conda/miniconda3/lib/python3.10/site-packages (from paddlepaddle-gpu->-r ../requirements.txt (line 22)) (0.28.1)\n",
      "Requirement already satisfied: decorator in /system/conda/miniconda3/lib/python3.10/site-packages (from paddlepaddle-gpu->-r ../requirements.txt (line 22)) (5.2.1)\n",
      "Requirement already satisfied: astor in /system/conda/miniconda3/lib/python3.10/site-packages (from paddlepaddle-gpu->-r ../requirements.txt (line 22)) (0.8.1)\n",
      "Requirement already satisfied: opt-einsum==3.3.0 in /system/conda/miniconda3/lib/python3.10/site-packages (from paddlepaddle-gpu->-r ../requirements.txt (line 22)) (3.3.0)\n",
      "Requirement already satisfied: protobuf>=3.20.2 in /system/conda/miniconda3/lib/python3.10/site-packages (from paddlepaddle-gpu->-r ../requirements.txt (line 22)) (6.30.1)\n",
      "Requirement already satisfied: termcolor in /system/conda/miniconda3/lib/python3.10/site-packages (from fire>=0.3.0->paddleocr->-r ../requirements.txt (line 19)) (2.5.0)\n",
      "Requirement already satisfied: pytz>=2020.1 in /system/conda/miniconda3/lib/python3.10/site-packages (from pandas>=1.2->seaborn->-r ../requirements.txt (line 13)) (2025.1)\n",
      "Requirement already satisfied: tzdata>=2022.7 in /system/conda/miniconda3/lib/python3.10/site-packages (from pandas>=1.2->seaborn->-r ../requirements.txt (line 13)) (2025.1)\n",
      "Requirement already satisfied: annotated-types>=0.6.0 in /system/conda/miniconda3/lib/python3.10/site-packages (from pydantic>=2.9.2->albumentations->-r ../requirements.txt (line 3)) (0.7.0)\n",
      "Requirement already satisfied: pydantic-core==2.27.2 in /system/conda/miniconda3/lib/python3.10/site-packages (from pydantic>=2.9.2->albumentations->-r ../requirements.txt (line 3)) (2.27.2)\n",
      "Requirement already satisfied: charset-normalizer<4,>=2 in /system/conda/miniconda3/lib/python3.10/site-packages (from requests->transformers->-r ../requirements.txt (line 9)) (2.0.4)\n",
      "Requirement already satisfied: soupsieve>1.2 in /system/conda/miniconda3/lib/python3.10/site-packages (from beautifulsoup4->paddleocr->-r ../requirements.txt (line 19)) (2.6)\n",
      "Requirement already satisfied: anyio in /system/conda/miniconda3/lib/python3.10/site-packages (from httpx->paddlepaddle-gpu->-r ../requirements.txt (line 22)) (4.8.0)\n",
      "Requirement already satisfied: httpcore==1.* in /system/conda/miniconda3/lib/python3.10/site-packages (from httpx->paddlepaddle-gpu->-r ../requirements.txt (line 22)) (1.0.7)\n",
      "Requirement already satisfied: h11<0.15,>=0.13 in /system/conda/miniconda3/lib/python3.10/site-packages (from httpcore==1.*->httpx->paddlepaddle-gpu->-r ../requirements.txt (line 22)) (0.14.0)\n",
      "Requirement already satisfied: MarkupSafe>=2.0 in /system/conda/miniconda3/lib/python3.10/site-packages (from jinja2->torch->-r ../requirements.txt (line 1)) (3.0.2)\n",
      "Requirement already satisfied: lxml>=3.1.0 in /system/conda/miniconda3/lib/python3.10/site-packages (from python-docx->paddleocr->-r ../requirements.txt (line 19)) (5.3.1)\n",
      "Requirement already satisfied: imageio!=2.35.0,>=2.33 in /system/conda/miniconda3/lib/python3.10/site-packages (from scikit-image->easyocr->-r ../requirements.txt (line 5)) (2.37.0)\n",
      "Requirement already satisfied: tifffile>=2022.8.12 in /system/conda/miniconda3/lib/python3.10/site-packages (from scikit-image->easyocr->-r ../requirements.txt (line 5)) (2025.3.13)\n",
      "Requirement already satisfied: lazy-loader>=0.4 in /system/conda/miniconda3/lib/python3.10/site-packages (from scikit-image->easyocr->-r ../requirements.txt (line 5)) (0.4)\n",
      "Requirement already satisfied: exceptiongroup>=1.0.2 in /system/conda/miniconda3/lib/python3.10/site-packages (from anyio->httpx->paddlepaddle-gpu->-r ../requirements.txt (line 22)) (1.2.2)\n",
      "Requirement already satisfied: sniffio>=1.1 in /system/conda/miniconda3/lib/python3.10/site-packages (from anyio->httpx->paddlepaddle-gpu->-r ../requirements.txt (line 22)) (1.3.1)\n"
     ]
    }
   ],
   "source": [
    "%%bash\n",
    "if test -f ../requirements.txt\n",
    "  then\n",
    "    pip install --upgrade pip\n",
    "    pip install -r ../requirements.txt\n",
    "  else echo \"No se encontro el archivo requirements.txt o hubo un error\"\n",
    "fi"
   ]
  },
  {
   "cell_type": "markdown",
   "metadata": {},
   "source": [
    "## Descargar Datasets"
   ]
  },
  {
   "cell_type": "code",
   "execution_count": 1,
   "metadata": {},
   "outputs": [],
   "source": [
    "import os \n",
    "from roboflow import Roboflow\n",
    "from roboflow import Project\n",
    "from roboflow.core.dataset import Dataset\n",
    "from roboflow.core.version import Version"
   ]
  },
  {
   "cell_type": "code",
   "execution_count": null,
   "metadata": {},
   "outputs": [],
   "source": [
    "API_KEY = os.environ[\"ROBOFLOW_API_KEY\"]"
   ]
  },
  {
   "cell_type": "markdown",
   "metadata": {},
   "source": [
    "### Dataset para entrenar a Yolo para detectar Código\n",
    "\n"
   ]
  },
  {
   "cell_type": "code",
   "execution_count": null,
   "metadata": {},
   "outputs": [],
   "source": [
    "rf: Roboflow = Roboflow(api_key=API_KEY)\n",
    "project: Project = rf.workspace(\"bot-interactivo-tesis\").project(\"code-snippet-detection\")\n",
    "version: Version = project.version(22)\n",
    "dataset: Dataset = version.download(\"yolov12\")"
   ]
  },
  {
   "cell_type": "markdown",
   "metadata": {},
   "source": [
    "### Dataset para entrenar a Yolo para detectar Diagramas"
   ]
  },
  {
   "cell_type": "code",
   "execution_count": null,
   "metadata": {},
   "outputs": [],
   "source": [
    "rf = Roboflow(api_key=API_KEY)\n",
    "project = rf.workspace(\"object-detection-gol2i\").project(\"flow-chart-detection\")\n",
    "version = project.version(2)\n",
    "dataset = version.download(\"yolov12\")"
   ]
  }
 ],
 "metadata": {
  "language_info": {
   "name": "python"
  }
 },
 "nbformat": 4,
 "nbformat_minor": 2
}
