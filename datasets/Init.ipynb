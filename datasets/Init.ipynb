{
 "cells": [
  {
   "cell_type": "markdown",
   "metadata": {},
   "source": [
    "# Bot de Asistencia Interactivo en Programas de Algoritmos y Diagramas de Programación para la Asignatura de “Introducción a la Algoritmia”\n",
    "\n"
   ]
  },
  {
   "cell_type": "markdown",
   "metadata": {},
   "source": [
    "## Introducción"
   ]
  },
  {
   "cell_type": "markdown",
   "metadata": {},
   "source": [
    "## Inicializar Dependencias"
   ]
  },
  {
   "cell_type": "code",
   "execution_count": 13,
   "metadata": {},
   "outputs": [
    {
     "name": "stdout",
     "output_type": "stream",
     "text": [
      "Requirement already satisfied: pip in /system/conda/miniconda3/envs/cloudspace/lib/python3.10/site-packages (25.0.1)\n"
     ]
    },
    {
     "name": "stdout",
     "output_type": "stream",
     "text": [
      "Requirement already satisfied: torch==2.6.0 in /system/conda/miniconda3/envs/cloudspace/lib/python3.10/site-packages (from -r ../requirements.txt (line 1)) (2.6.0)\n",
      "Requirement already satisfied: torchvision==0.21.0 in /system/conda/miniconda3/envs/cloudspace/lib/python3.10/site-packages (from -r ../requirements.txt (line 2)) (0.21.0)\n",
      "Requirement already satisfied: albumentations==2.0.5 in /system/conda/miniconda3/envs/cloudspace/lib/python3.10/site-packages (from -r ../requirements.txt (line 3)) (2.0.5)\n",
      "Requirement already satisfied: scenedetect==0.6.6 in /system/conda/miniconda3/envs/cloudspace/lib/python3.10/site-packages (from -r ../requirements.txt (line 4)) (0.6.6)\n",
      "Requirement already satisfied: opencv-python===4.11.0.86 in /system/conda/miniconda3/envs/cloudspace/lib/python3.10/site-packages (from -r ../requirements.txt (line 5)) (4.11.0.86)\n",
      "Requirement already satisfied: opencv-python-headless===4.11.0.86 in /system/conda/miniconda3/envs/cloudspace/lib/python3.10/site-packages (from -r ../requirements.txt (line 6)) (4.11.0.86)\n",
      "Requirement already satisfied: ffmpeg==1.4 in /system/conda/miniconda3/envs/cloudspace/lib/python3.10/site-packages (from -r ../requirements.txt (line 7)) (1.4)\n",
      "Requirement already satisfied: transformers==4.50.0 in /system/conda/miniconda3/envs/cloudspace/lib/python3.10/site-packages (from -r ../requirements.txt (line 8)) (4.50.0)\n",
      "Requirement already satisfied: lmdb==1.6.2 in /system/conda/miniconda3/envs/cloudspace/lib/python3.10/site-packages (from -r ../requirements.txt (line 9)) (1.6.2)\n",
      "Requirement already satisfied: Pillow==10.4.0 in /system/conda/miniconda3/envs/cloudspace/lib/python3.10/site-packages (from -r ../requirements.txt (line 10)) (10.4.0)\n",
      "Requirement already satisfied: matplotlib==3.8.2 in /system/conda/miniconda3/envs/cloudspace/lib/python3.10/site-packages (from -r ../requirements.txt (line 11)) (3.8.2)\n",
      "Requirement already satisfied: seaborn==0.13.2 in /system/conda/miniconda3/envs/cloudspace/lib/python3.10/site-packages (from -r ../requirements.txt (line 12)) (0.13.2)\n",
      "Requirement already satisfied: scikit-learn==1.3.2 in /system/conda/miniconda3/envs/cloudspace/lib/python3.10/site-packages (from -r ../requirements.txt (line 13)) (1.3.2)\n",
      "Requirement already satisfied: ultralytics==8.3.94 in /system/conda/miniconda3/envs/cloudspace/lib/python3.10/site-packages (from -r ../requirements.txt (line 15)) (8.3.94)\n",
      "Requirement already satisfied: supervision==0.25.1 in /system/conda/miniconda3/envs/cloudspace/lib/python3.10/site-packages (from -r ../requirements.txt (line 16)) (0.25.1)\n",
      "Requirement already satisfied: rapidfuzz==3.12.2 in /system/conda/miniconda3/envs/cloudspace/lib/python3.10/site-packages (from -r ../requirements.txt (line 17)) (3.12.2)\n",
      "Requirement already satisfied: fastai==2.8.0 in /system/conda/miniconda3/envs/cloudspace/lib/python3.10/site-packages (from -r ../requirements.txt (line 18)) (2.8.0)\n",
      "Requirement already satisfied: surya-ocr==0.13.0 in /system/conda/miniconda3/envs/cloudspace/lib/python3.10/site-packages (from -r ../requirements.txt (line 19)) (0.13.0)\n",
      "Requirement already satisfied: imutils==0.5.4 in /system/conda/miniconda3/envs/cloudspace/lib/python3.10/site-packages (from -r ../requirements.txt (line 20)) (0.5.4)\n",
      "Requirement already satisfied: filelock in /system/conda/miniconda3/envs/cloudspace/lib/python3.10/site-packages (from torch==2.6.0->-r ../requirements.txt (line 1)) (3.17.0)\n",
      "Requirement already satisfied: typing-extensions>=4.10.0 in /system/conda/miniconda3/envs/cloudspace/lib/python3.10/site-packages (from torch==2.6.0->-r ../requirements.txt (line 1)) (4.12.2)\n",
      "Requirement already satisfied: networkx in /system/conda/miniconda3/envs/cloudspace/lib/python3.10/site-packages (from torch==2.6.0->-r ../requirements.txt (line 1)) (3.4.2)\n",
      "Requirement already satisfied: jinja2 in /system/conda/miniconda3/envs/cloudspace/lib/python3.10/site-packages (from torch==2.6.0->-r ../requirements.txt (line 1)) (3.1.6)\n",
      "Requirement already satisfied: fsspec in /system/conda/miniconda3/envs/cloudspace/lib/python3.10/site-packages (from torch==2.6.0->-r ../requirements.txt (line 1)) (2025.3.0)\n",
      "Requirement already satisfied: nvidia-cuda-nvrtc-cu12==12.4.127 in /system/conda/miniconda3/envs/cloudspace/lib/python3.10/site-packages (from torch==2.6.0->-r ../requirements.txt (line 1)) (12.4.127)\n",
      "Requirement already satisfied: nvidia-cuda-runtime-cu12==12.4.127 in /system/conda/miniconda3/envs/cloudspace/lib/python3.10/site-packages (from torch==2.6.0->-r ../requirements.txt (line 1)) (12.4.127)\n",
      "Requirement already satisfied: nvidia-cuda-cupti-cu12==12.4.127 in /system/conda/miniconda3/envs/cloudspace/lib/python3.10/site-packages (from torch==2.6.0->-r ../requirements.txt (line 1)) (12.4.127)\n",
      "Requirement already satisfied: nvidia-cudnn-cu12==9.1.0.70 in /system/conda/miniconda3/envs/cloudspace/lib/python3.10/site-packages (from torch==2.6.0->-r ../requirements.txt (line 1)) (9.1.0.70)\n",
      "Requirement already satisfied: nvidia-cublas-cu12==12.4.5.8 in /system/conda/miniconda3/envs/cloudspace/lib/python3.10/site-packages (from torch==2.6.0->-r ../requirements.txt (line 1)) (12.4.5.8)\n",
      "Requirement already satisfied: nvidia-cufft-cu12==11.2.1.3 in /system/conda/miniconda3/envs/cloudspace/lib/python3.10/site-packages (from torch==2.6.0->-r ../requirements.txt (line 1)) (11.2.1.3)\n",
      "Requirement already satisfied: nvidia-curand-cu12==10.3.5.147 in /system/conda/miniconda3/envs/cloudspace/lib/python3.10/site-packages (from torch==2.6.0->-r ../requirements.txt (line 1)) (10.3.5.147)\n",
      "Requirement already satisfied: nvidia-cusolver-cu12==11.6.1.9 in /system/conda/miniconda3/envs/cloudspace/lib/python3.10/site-packages (from torch==2.6.0->-r ../requirements.txt (line 1)) (11.6.1.9)\n",
      "Requirement already satisfied: nvidia-cusparse-cu12==12.3.1.170 in /system/conda/miniconda3/envs/cloudspace/lib/python3.10/site-packages (from torch==2.6.0->-r ../requirements.txt (line 1)) (12.3.1.170)\n",
      "Requirement already satisfied: nvidia-cusparselt-cu12==0.6.2 in /system/conda/miniconda3/envs/cloudspace/lib/python3.10/site-packages (from torch==2.6.0->-r ../requirements.txt (line 1)) (0.6.2)\n",
      "Requirement already satisfied: nvidia-nccl-cu12==2.21.5 in /system/conda/miniconda3/envs/cloudspace/lib/python3.10/site-packages (from torch==2.6.0->-r ../requirements.txt (line 1)) (2.21.5)\n",
      "Requirement already satisfied: nvidia-nvtx-cu12==12.4.127 in /system/conda/miniconda3/envs/cloudspace/lib/python3.10/site-packages (from torch==2.6.0->-r ../requirements.txt (line 1)) (12.4.127)\n",
      "Requirement already satisfied: nvidia-nvjitlink-cu12==12.4.127 in /system/conda/miniconda3/envs/cloudspace/lib/python3.10/site-packages (from torch==2.6.0->-r ../requirements.txt (line 1)) (12.4.127)\n",
      "Requirement already satisfied: triton==3.2.0 in /system/conda/miniconda3/envs/cloudspace/lib/python3.10/site-packages (from torch==2.6.0->-r ../requirements.txt (line 1)) (3.2.0)\n",
      "Requirement already satisfied: sympy==1.13.1 in /system/conda/miniconda3/envs/cloudspace/lib/python3.10/site-packages (from torch==2.6.0->-r ../requirements.txt (line 1)) (1.13.1)\n",
      "Requirement already satisfied: numpy in /system/conda/miniconda3/envs/cloudspace/lib/python3.10/site-packages (from torchvision==0.21.0->-r ../requirements.txt (line 2)) (1.26.4)\n",
      "Requirement already satisfied: scipy>=1.10.0 in /system/conda/miniconda3/envs/cloudspace/lib/python3.10/site-packages (from albumentations==2.0.5->-r ../requirements.txt (line 3)) (1.11.4)\n",
      "Requirement already satisfied: PyYAML in /system/conda/miniconda3/envs/cloudspace/lib/python3.10/site-packages (from albumentations==2.0.5->-r ../requirements.txt (line 3)) (6.0.2)\n",
      "Requirement already satisfied: pydantic>=2.9.2 in /system/conda/miniconda3/envs/cloudspace/lib/python3.10/site-packages (from albumentations==2.0.5->-r ../requirements.txt (line 3)) (2.10.6)\n",
      "Requirement already satisfied: albucore==0.0.23 in /system/conda/miniconda3/envs/cloudspace/lib/python3.10/site-packages (from albumentations==2.0.5->-r ../requirements.txt (line 3)) (0.0.23)\n",
      "Requirement already satisfied: Click in /system/conda/miniconda3/envs/cloudspace/lib/python3.10/site-packages (from scenedetect==0.6.6->-r ../requirements.txt (line 4)) (8.1.8)\n",
      "Requirement already satisfied: platformdirs in /system/conda/miniconda3/envs/cloudspace/lib/python3.10/site-packages (from scenedetect==0.6.6->-r ../requirements.txt (line 4)) (4.3.6)\n",
      "Requirement already satisfied: tqdm in /system/conda/miniconda3/envs/cloudspace/lib/python3.10/site-packages (from scenedetect==0.6.6->-r ../requirements.txt (line 4)) (4.67.1)\n",
      "Requirement already satisfied: huggingface-hub<1.0,>=0.26.0 in /system/conda/miniconda3/envs/cloudspace/lib/python3.10/site-packages (from transformers==4.50.0->-r ../requirements.txt (line 8)) (0.29.3)\n",
      "Requirement already satisfied: packaging>=20.0 in /system/conda/miniconda3/envs/cloudspace/lib/python3.10/site-packages (from transformers==4.50.0->-r ../requirements.txt (line 8)) (24.2)\n",
      "Requirement already satisfied: regex!=2019.12.17 in /system/conda/miniconda3/envs/cloudspace/lib/python3.10/site-packages (from transformers==4.50.0->-r ../requirements.txt (line 8)) (2024.11.6)\n",
      "Requirement already satisfied: requests in /system/conda/miniconda3/envs/cloudspace/lib/python3.10/site-packages (from transformers==4.50.0->-r ../requirements.txt (line 8)) (2.32.3)\n",
      "Requirement already satisfied: tokenizers<0.22,>=0.21 in /system/conda/miniconda3/envs/cloudspace/lib/python3.10/site-packages (from transformers==4.50.0->-r ../requirements.txt (line 8)) (0.21.1)\n",
      "Requirement already satisfied: safetensors>=0.4.3 in /system/conda/miniconda3/envs/cloudspace/lib/python3.10/site-packages (from transformers==4.50.0->-r ../requirements.txt (line 8)) (0.5.3)\n",
      "Requirement already satisfied: contourpy>=1.0.1 in /system/conda/miniconda3/envs/cloudspace/lib/python3.10/site-packages (from matplotlib==3.8.2->-r ../requirements.txt (line 11)) (1.3.1)\n",
      "Requirement already satisfied: cycler>=0.10 in /system/conda/miniconda3/envs/cloudspace/lib/python3.10/site-packages (from matplotlib==3.8.2->-r ../requirements.txt (line 11)) (0.12.1)\n",
      "Requirement already satisfied: fonttools>=4.22.0 in /system/conda/miniconda3/envs/cloudspace/lib/python3.10/site-packages (from matplotlib==3.8.2->-r ../requirements.txt (line 11)) (4.56.0)\n",
      "Requirement already satisfied: kiwisolver>=1.3.1 in /system/conda/miniconda3/envs/cloudspace/lib/python3.10/site-packages (from matplotlib==3.8.2->-r ../requirements.txt (line 11)) (1.4.8)\n",
      "Requirement already satisfied: pyparsing>=2.3.1 in /system/conda/miniconda3/envs/cloudspace/lib/python3.10/site-packages (from matplotlib==3.8.2->-r ../requirements.txt (line 11)) (3.2.1)\n",
      "Requirement already satisfied: python-dateutil>=2.7 in /system/conda/miniconda3/envs/cloudspace/lib/python3.10/site-packages (from matplotlib==3.8.2->-r ../requirements.txt (line 11)) (2.9.0.post0)\n",
      "Requirement already satisfied: pandas>=1.2 in /system/conda/miniconda3/envs/cloudspace/lib/python3.10/site-packages (from seaborn==0.13.2->-r ../requirements.txt (line 12)) (2.1.4)\n",
      "Requirement already satisfied: joblib>=1.1.1 in /system/conda/miniconda3/envs/cloudspace/lib/python3.10/site-packages (from scikit-learn==1.3.2->-r ../requirements.txt (line 13)) (1.4.2)\n",
      "Requirement already satisfied: threadpoolctl>=2.0.0 in /system/conda/miniconda3/envs/cloudspace/lib/python3.10/site-packages (from scikit-learn==1.3.2->-r ../requirements.txt (line 13)) (3.5.0)\n",
      "Requirement already satisfied: psutil in /system/conda/miniconda3/envs/cloudspace/lib/python3.10/site-packages (from ultralytics==8.3.94->-r ../requirements.txt (line 15)) (7.0.0)\n",
      "Requirement already satisfied: py-cpuinfo in /system/conda/miniconda3/envs/cloudspace/lib/python3.10/site-packages (from ultralytics==8.3.94->-r ../requirements.txt (line 15)) (9.0.0)\n",
      "Requirement already satisfied: ultralytics-thop>=2.0.0 in /system/conda/miniconda3/envs/cloudspace/lib/python3.10/site-packages (from ultralytics==8.3.94->-r ../requirements.txt (line 15)) (2.0.14)\n",
      "Requirement already satisfied: defusedxml<0.8.0,>=0.7.1 in /system/conda/miniconda3/envs/cloudspace/lib/python3.10/site-packages (from supervision==0.25.1->-r ../requirements.txt (line 16)) (0.7.1)\n",
      "Requirement already satisfied: pip in /system/conda/miniconda3/envs/cloudspace/lib/python3.10/site-packages (from fastai==2.8.0->-r ../requirements.txt (line 18)) (25.0.1)\n",
      "Requirement already satisfied: fastdownload<2,>=0.0.5 in /system/conda/miniconda3/envs/cloudspace/lib/python3.10/site-packages (from fastai==2.8.0->-r ../requirements.txt (line 18)) (0.0.7)\n",
      "Requirement already satisfied: fastcore<1.9,>=1.8.0 in /system/conda/miniconda3/envs/cloudspace/lib/python3.10/site-packages (from fastai==2.8.0->-r ../requirements.txt (line 18)) (1.8.0)\n",
      "Requirement already satisfied: fasttransform in /system/conda/miniconda3/envs/cloudspace/lib/python3.10/site-packages (from fastai==2.8.0->-r ../requirements.txt (line 18)) (0.0.1)\n",
      "Requirement already satisfied: fastprogress>=0.2.4 in /system/conda/miniconda3/envs/cloudspace/lib/python3.10/site-packages (from fastai==2.8.0->-r ../requirements.txt (line 18)) (1.0.3)\n",
      "Requirement already satisfied: spacy<4 in /system/conda/miniconda3/envs/cloudspace/lib/python3.10/site-packages (from fastai==2.8.0->-r ../requirements.txt (line 18)) (3.8.4)\n",
      "Requirement already satisfied: filetype<2.0.0,>=1.2.0 in /system/conda/miniconda3/envs/cloudspace/lib/python3.10/site-packages (from surya-ocr==0.13.0->-r ../requirements.txt (line 19)) (1.2.0)\n",
      "Requirement already satisfied: pydantic-settings<3.0.0,>=2.1.0 in /system/conda/miniconda3/envs/cloudspace/lib/python3.10/site-packages (from surya-ocr==0.13.0->-r ../requirements.txt (line 19)) (2.8.1)\n",
      "Requirement already satisfied: pypdfium2==4.30.0 in /system/conda/miniconda3/envs/cloudspace/lib/python3.10/site-packages (from surya-ocr==0.13.0->-r ../requirements.txt (line 19)) (4.30.0)\n",
      "Requirement already satisfied: python-dotenv<2.0.0,>=1.0.0 in /system/conda/miniconda3/envs/cloudspace/lib/python3.10/site-packages (from surya-ocr==0.13.0->-r ../requirements.txt (line 19)) (1.0.1)\n",
      "Requirement already satisfied: stringzilla>=3.10.4 in /system/conda/miniconda3/envs/cloudspace/lib/python3.10/site-packages (from albucore==0.0.23->albumentations==2.0.5->-r ../requirements.txt (line 3)) (3.12.3)\n",
      "Requirement already satisfied: simsimd>=5.9.2 in /system/conda/miniconda3/envs/cloudspace/lib/python3.10/site-packages (from albucore==0.0.23->albumentations==2.0.5->-r ../requirements.txt (line 3)) (6.2.1)\n",
      "Requirement already satisfied: mpmath<1.4,>=1.1.0 in /system/conda/miniconda3/envs/cloudspace/lib/python3.10/site-packages (from sympy==1.13.1->torch==2.6.0->-r ../requirements.txt (line 1)) (1.3.0)\n",
      "Requirement already satisfied: pytz>=2020.1 in /system/conda/miniconda3/envs/cloudspace/lib/python3.10/site-packages (from pandas>=1.2->seaborn==0.13.2->-r ../requirements.txt (line 12)) (2025.1)\n",
      "Requirement already satisfied: tzdata>=2022.1 in /system/conda/miniconda3/envs/cloudspace/lib/python3.10/site-packages (from pandas>=1.2->seaborn==0.13.2->-r ../requirements.txt (line 12)) (2025.1)\n",
      "Requirement already satisfied: annotated-types>=0.6.0 in /system/conda/miniconda3/envs/cloudspace/lib/python3.10/site-packages (from pydantic>=2.9.2->albumentations==2.0.5->-r ../requirements.txt (line 3)) (0.7.0)\n",
      "Requirement already satisfied: pydantic-core==2.27.2 in /system/conda/miniconda3/envs/cloudspace/lib/python3.10/site-packages (from pydantic>=2.9.2->albumentations==2.0.5->-r ../requirements.txt (line 3)) (2.27.2)\n",
      "Requirement already satisfied: six>=1.5 in /system/conda/miniconda3/envs/cloudspace/lib/python3.10/site-packages (from python-dateutil>=2.7->matplotlib==3.8.2->-r ../requirements.txt (line 11)) (1.17.0)\n",
      "Requirement already satisfied: charset-normalizer<4,>=2 in /system/conda/miniconda3/envs/cloudspace/lib/python3.10/site-packages (from requests->transformers==4.50.0->-r ../requirements.txt (line 8)) (3.4.1)\n",
      "Requirement already satisfied: idna<4,>=2.5 in /system/conda/miniconda3/envs/cloudspace/lib/python3.10/site-packages (from requests->transformers==4.50.0->-r ../requirements.txt (line 8)) (3.7)\n",
      "Requirement already satisfied: urllib3<3,>=1.21.1 in /system/conda/miniconda3/envs/cloudspace/lib/python3.10/site-packages (from requests->transformers==4.50.0->-r ../requirements.txt (line 8)) (2.3.0)\n",
      "Requirement already satisfied: certifi>=2017.4.17 in /system/conda/miniconda3/envs/cloudspace/lib/python3.10/site-packages (from requests->transformers==4.50.0->-r ../requirements.txt (line 8)) (2025.1.31)\n",
      "Requirement already satisfied: spacy-legacy<3.1.0,>=3.0.11 in /system/conda/miniconda3/envs/cloudspace/lib/python3.10/site-packages (from spacy<4->fastai==2.8.0->-r ../requirements.txt (line 18)) (3.0.12)\n",
      "Requirement already satisfied: spacy-loggers<2.0.0,>=1.0.0 in /system/conda/miniconda3/envs/cloudspace/lib/python3.10/site-packages (from spacy<4->fastai==2.8.0->-r ../requirements.txt (line 18)) (1.0.5)\n",
      "Requirement already satisfied: murmurhash<1.1.0,>=0.28.0 in /system/conda/miniconda3/envs/cloudspace/lib/python3.10/site-packages (from spacy<4->fastai==2.8.0->-r ../requirements.txt (line 18)) (1.0.12)\n",
      "Requirement already satisfied: cymem<2.1.0,>=2.0.2 in /system/conda/miniconda3/envs/cloudspace/lib/python3.10/site-packages (from spacy<4->fastai==2.8.0->-r ../requirements.txt (line 18)) (2.0.11)\n",
      "Requirement already satisfied: preshed<3.1.0,>=3.0.2 in /system/conda/miniconda3/envs/cloudspace/lib/python3.10/site-packages (from spacy<4->fastai==2.8.0->-r ../requirements.txt (line 18)) (3.0.9)\n",
      "Requirement already satisfied: thinc<8.4.0,>=8.3.4 in /system/conda/miniconda3/envs/cloudspace/lib/python3.10/site-packages (from spacy<4->fastai==2.8.0->-r ../requirements.txt (line 18)) (8.3.4)\n",
      "Requirement already satisfied: wasabi<1.2.0,>=0.9.1 in /system/conda/miniconda3/envs/cloudspace/lib/python3.10/site-packages (from spacy<4->fastai==2.8.0->-r ../requirements.txt (line 18)) (1.1.3)\n",
      "Requirement already satisfied: srsly<3.0.0,>=2.4.3 in /system/conda/miniconda3/envs/cloudspace/lib/python3.10/site-packages (from spacy<4->fastai==2.8.0->-r ../requirements.txt (line 18)) (2.5.1)\n",
      "Requirement already satisfied: catalogue<2.1.0,>=2.0.6 in /system/conda/miniconda3/envs/cloudspace/lib/python3.10/site-packages (from spacy<4->fastai==2.8.0->-r ../requirements.txt (line 18)) (2.0.10)\n",
      "Requirement already satisfied: weasel<0.5.0,>=0.1.0 in /system/conda/miniconda3/envs/cloudspace/lib/python3.10/site-packages (from spacy<4->fastai==2.8.0->-r ../requirements.txt (line 18)) (0.4.1)\n",
      "Requirement already satisfied: typer<1.0.0,>=0.3.0 in /system/conda/miniconda3/envs/cloudspace/lib/python3.10/site-packages (from spacy<4->fastai==2.8.0->-r ../requirements.txt (line 18)) (0.15.2)\n",
      "Requirement already satisfied: setuptools in /system/conda/miniconda3/envs/cloudspace/lib/python3.10/site-packages (from spacy<4->fastai==2.8.0->-r ../requirements.txt (line 18)) (75.8.0)\n",
      "Requirement already satisfied: langcodes<4.0.0,>=3.2.0 in /system/conda/miniconda3/envs/cloudspace/lib/python3.10/site-packages (from spacy<4->fastai==2.8.0->-r ../requirements.txt (line 18)) (3.5.0)\n",
      "Requirement already satisfied: plum-dispatch in /system/conda/miniconda3/envs/cloudspace/lib/python3.10/site-packages (from fasttransform->fastai==2.8.0->-r ../requirements.txt (line 18)) (2.5.7)\n",
      "Requirement already satisfied: MarkupSafe>=2.0 in /system/conda/miniconda3/envs/cloudspace/lib/python3.10/site-packages (from jinja2->torch==2.6.0->-r ../requirements.txt (line 1)) (3.0.2)\n",
      "Requirement already satisfied: language-data>=1.2 in /system/conda/miniconda3/envs/cloudspace/lib/python3.10/site-packages (from langcodes<4.0.0,>=3.2.0->spacy<4->fastai==2.8.0->-r ../requirements.txt (line 18)) (1.3.0)\n",
      "Requirement already satisfied: blis<1.3.0,>=1.2.0 in /system/conda/miniconda3/envs/cloudspace/lib/python3.10/site-packages (from thinc<8.4.0,>=8.3.4->spacy<4->fastai==2.8.0->-r ../requirements.txt (line 18)) (1.2.0)\n",
      "Requirement already satisfied: confection<1.0.0,>=0.0.1 in /system/conda/miniconda3/envs/cloudspace/lib/python3.10/site-packages (from thinc<8.4.0,>=8.3.4->spacy<4->fastai==2.8.0->-r ../requirements.txt (line 18)) (0.1.5)\n",
      "Requirement already satisfied: shellingham>=1.3.0 in /system/conda/miniconda3/envs/cloudspace/lib/python3.10/site-packages (from typer<1.0.0,>=0.3.0->spacy<4->fastai==2.8.0->-r ../requirements.txt (line 18)) (1.5.4)\n",
      "Requirement already satisfied: rich>=10.11.0 in /system/conda/miniconda3/envs/cloudspace/lib/python3.10/site-packages (from typer<1.0.0,>=0.3.0->spacy<4->fastai==2.8.0->-r ../requirements.txt (line 18)) (13.9.4)\n",
      "Requirement already satisfied: cloudpathlib<1.0.0,>=0.7.0 in /system/conda/miniconda3/envs/cloudspace/lib/python3.10/site-packages (from weasel<0.5.0,>=0.1.0->spacy<4->fastai==2.8.0->-r ../requirements.txt (line 18)) (0.21.0)\n",
      "Requirement already satisfied: smart-open<8.0.0,>=5.2.1 in /system/conda/miniconda3/envs/cloudspace/lib/python3.10/site-packages (from weasel<0.5.0,>=0.1.0->spacy<4->fastai==2.8.0->-r ../requirements.txt (line 18)) (7.1.0)\n",
      "Requirement already satisfied: beartype>=0.16.2 in /system/conda/miniconda3/envs/cloudspace/lib/python3.10/site-packages (from plum-dispatch->fasttransform->fastai==2.8.0->-r ../requirements.txt (line 18)) (0.20.0)\n",
      "Requirement already satisfied: marisa-trie>=1.1.0 in /system/conda/miniconda3/envs/cloudspace/lib/python3.10/site-packages (from language-data>=1.2->langcodes<4.0.0,>=3.2.0->spacy<4->fastai==2.8.0->-r ../requirements.txt (line 18)) (1.2.1)\n",
      "Requirement already satisfied: markdown-it-py>=2.2.0 in /system/conda/miniconda3/envs/cloudspace/lib/python3.10/site-packages (from rich>=10.11.0->typer<1.0.0,>=0.3.0->spacy<4->fastai==2.8.0->-r ../requirements.txt (line 18)) (3.0.0)\n",
      "Requirement already satisfied: pygments<3.0.0,>=2.13.0 in /system/conda/miniconda3/envs/cloudspace/lib/python3.10/site-packages (from rich>=10.11.0->typer<1.0.0,>=0.3.0->spacy<4->fastai==2.8.0->-r ../requirements.txt (line 18)) (2.19.1)\n",
      "Requirement already satisfied: wrapt in /system/conda/miniconda3/envs/cloudspace/lib/python3.10/site-packages (from smart-open<8.0.0,>=5.2.1->weasel<0.5.0,>=0.1.0->spacy<4->fastai==2.8.0->-r ../requirements.txt (line 18)) (1.17.2)\n",
      "Requirement already satisfied: mdurl~=0.1 in /system/conda/miniconda3/envs/cloudspace/lib/python3.10/site-packages (from markdown-it-py>=2.2.0->rich>=10.11.0->typer<1.0.0,>=0.3.0->spacy<4->fastai==2.8.0->-r ../requirements.txt (line 18)) (0.1.2)\n"
     ]
    }
   ],
   "source": [
    "%%bash\n",
    "if test -f ../requirements.txt\n",
    "  then\n",
    "    pip install --upgrade pip\n",
    "    pip install -r ../requirements.txt\n",
    "  else echo \"No se encontro el archivo requirements.txt o hubo un error\"\n",
    "fi"
   ]
  },
  {
   "cell_type": "markdown",
   "metadata": {},
   "source": [
    "## Verificar Versiones"
   ]
  },
  {
   "cell_type": "code",
   "execution_count": 15,
   "metadata": {},
   "outputs": [
    {
     "name": "stdout",
     "output_type": "stream",
     "text": [
      "torch==2.6.0\n",
      "torchvision==0.21.0\n",
      "albumentations==2.0.5\n",
      "scenedetect==0.6.6\n",
      "opencv-python==4.11.0.86\n",
      "opencv-python-headless==4.11.0.86\n",
      "ffmpeg==1.4\n",
      "transformers==4.50.0\n",
      "lmdb==1.6.2\n",
      "Pillow==10.4.0\n",
      "matplotlib==3.8.2\n",
      "seaborn==0.13.2\n",
      "scikit-learn==1.3.2\n",
      "roboflow==1.1.58\n",
      "ultralytics==8.3.94\n",
      "supervision==0.25.1\n",
      "rapidfuzz==3.12.2\n",
      "paddleocr==2.10.0\n",
      "fastai==2.8.0\n",
      "surya-ocr==0.13.0\n"
     ]
    }
   ],
   "source": [
    "import importlib.metadata\n",
    "import logging\n",
    "\n",
    "packages: list[str] = [\n",
    "    \"torch\",\n",
    "    \"torchvision\",\n",
    "    \"albumentations\",\n",
    "    \"scenedetect\",\n",
    "    \"opencv-python\",\n",
    "    \"opencv-python-headless\",\n",
    "    \"ffmpeg\", \n",
    "    \"transformers\",\n",
    "    \"lmdb\",\n",
    "    \"Pillow\", \n",
    "    \"matplotlib\",\n",
    "    \"seaborn\",\n",
    "    \"scikit-learn\",\n",
    "    \"roboflow\",\n",
    "    \"ultralytics\",\n",
    "    \"supervision\",\n",
    "    \"rapidfuzz\",\n",
    "    \"paddleocr\",\n",
    "    \"fastai\",\n",
    "    \"surya-ocr\"\n",
    "]\n",
    "\n",
    "for pkg in packages:\n",
    "    try:\n",
    "        version = importlib.metadata.version(pkg)\n",
    "    except Exception as e:\n",
    "        version = f\"Not installed or error: {e}\"\n",
    "    logging.info(msg=f\"{pkg}=={version}\")\n",
    "    print(f\"{pkg}=={version}\")"
   ]
  },
  {
   "cell_type": "code",
   "execution_count": 11,
   "metadata": {},
   "outputs": [
    {
     "name": "stdout",
     "output_type": "stream",
     "text": [
      "\u001b[33mWARNING: pip index is currently an experimental command. It may be removed/changed in a future release without prior warning.\u001b[0m\u001b[33m\n",
      "\u001b[0msurya-ocr (0.13.0)\n",
      "Available versions: 0.13.0, 0.12.1, 0.12.0, 0.11.1, 0.11.0, 0.10.3, 0.10.2, 0.10.1, 0.10.0, 0.9.3, 0.9.2, 0.9.1, 0.9.0, 0.8.3, 0.8.2, 0.8.1, 0.8.0, 0.7.0, 0.6.13, 0.6.12, 0.6.11, 0.6.10, 0.6.9, 0.6.8, 0.6.7, 0.6.6, 0.6.5, 0.6.4, 0.6.3, 0.6.2, 0.6.1, 0.6.0, 0.5.0, 0.4.15, 0.4.14, 0.4.12, 0.4.11, 0.4.10, 0.4.9, 0.4.8, 0.4.7, 0.4.6, 0.4.5, 0.4.4, 0.4.3, 0.4.2, 0.4.1, 0.4.0, 0.3.0, 0.2.4, 0.2.3, 0.2.2, 0.2.1, 0.2.0, 0.1.6, 0.1.5, 0.1.4, 0.1.2, 0.1.1, 0.1.0\n",
      "  INSTALLED: 0.13.0\n",
      "  LATEST:    0.13.0\n"
     ]
    },
    {
     "name": "stdout",
     "output_type": "stream",
     "text": [
      "Note: you may need to restart the kernel to use updated packages.\n"
     ]
    }
   ],
   "source": [
    "%pip index versions surya-ocr"
   ]
  },
  {
   "cell_type": "code",
   "execution_count": null,
   "metadata": {},
   "outputs": [],
   "source": []
  }
 ],
 "metadata": {
  "language_info": {
   "name": "python"
  }
 },
 "nbformat": 4,
 "nbformat_minor": 2
}
