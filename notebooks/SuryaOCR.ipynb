{
 "cells": [
  {
   "cell_type": "code",
   "execution_count": 2,
   "metadata": {},
   "outputs": [],
   "source": [
    "import cv2\n",
    "from PIL import Image\n",
    "from typing import List, Tuple\n",
    "import matplotlib.pyplot as plt\n",
    "from surya.recognition import OCRResult, RecognitionPredictor\n",
    "from surya.detection import DetectionPredictor\n",
    "\n",
    "class SuryaOCR:\n",
    "    def __init__(self)-> None:\n",
    "        self.detection_predictor = DetectionPredictor()\n",
    "        self.recognition_predictor = RecognitionPredictor()\n",
    "        self.langs = ['es']\n",
    "\n",
    "    def get_predictions(self, image: Image.Image)-> List[OCRResult]:\n",
    "        return self.recognition_predictor(images=[image], langs=[self.langs], det_predictor=self.detection_predictor)\n",
    "\n",
    "    def get_text_from_predictions(self, predictions: List[OCRResult])-> str:\n",
    "        return predictions[0].text_lines[0].text\n",
    "\n",
    "    def get_bouding_boxes_from_predictions(self, predictions: List[OCRResult])-> List[float]:\n",
    "        return predictions[0].text_lines[0].bbox\n",
    "\n",
    "    def get_confidence_from_predictions(self, predictions: List[OCRResult])-> float:\n",
    "        confidence: float | None = predictions[0].text_lines[0].confidence\n",
    "        return confidence if confidence is not None else 0\n",
    "\n",
    "    def show_image_with_bounding_boxes(self, image_path: str, bounding_boxes: List[float], text: str = \"Image with boundings\")-> None:\n",
    "        if not image_path:\n",
    "            raise ValueError('Image is required')\n",
    "        if not bounding_boxes:\n",
    "            raise ValueError('Bounding boxes are required')\n",
    "\n",
    "        image = cv2.imread(image_path)\n",
    "\n",
    "        x1, y1, x2, y2 = map(int, bounding_boxes)\n",
    "\n",
    "        cv2.rectangle(img=image, pt1=(x1, y1), pt2=(x2, y2), color=(0, 255, 0), thickness=2)\n",
    "\n",
    "        plt.imshow(X=cv2.cvtColor(image, cv2.COLOR_BGR2RGB))\n",
    "        plt.axis('off')\n",
    "        plt.title(label=text)\n",
    "        plt.show()\n",
    "\n",
    "    def predict(self, image_path: str, showResult: bool = False)-> Tuple[str, List[float], float]:\n",
    "        if not image_path:\n",
    "            raise ValueError('Image is required')\n",
    "\n",
    "        image: Image.Image = Image.open(fp=image_path)\n",
    "        predictions: List[OCRResult] = self.get_predictions(image=image)\n",
    "        extracted_text: str = self.get_text_from_predictions(predictions=predictions)\n",
    "        bounding_boxes: List[float] = self.get_bouding_boxes_from_predictions(predictions=predictions)\n",
    "        confidence: float = self.get_confidence_from_predictions(predictions=predictions)\n",
    "\n",
    "        if showResult:\n",
    "            self.show_image_with_bounding_boxes(image_path=image_path, bounding_boxes=bounding_boxes, text=extracted_text)\n",
    "\n",
    "        return extracted_text, bounding_boxes, confidence"
   ]
  },
  {
   "cell_type": "code",
   "execution_count": 4,
   "metadata": {},
   "outputs": [
    {
     "name": "stdout",
     "output_type": "stream",
     "text": [
      "Loaded detection model s3://text_detection/2025_02_28 on device cpu with dtype torch.float32\n",
      "Loaded recognition model s3://text_recognition/2025_02_18 on device cpu with dtype torch.float32\n"
     ]
    }
   ],
   "source": [
    "suryaOCR: SuryaOCR = SuryaOCR()"
   ]
  }
 ],
 "metadata": {
  "language_info": {
   "name": "python"
  }
 },
 "nbformat": 4,
 "nbformat_minor": 2
}
